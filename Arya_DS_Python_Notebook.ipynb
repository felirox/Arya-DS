{
  "nbformat": 4,
  "nbformat_minor": 0,
  "metadata": {
    "colab": {
      "name": "Arya Data Scientist Challenge",
      "provenance": [],
      "collapsed_sections": [],
      "authorship_tag": "ABX9TyM9T2DUKckoV4wzMXeH2IDA",
      "include_colab_link": true
    },
    "kernelspec": {
      "name": "python3",
      "display_name": "Python 3"
    },
    "language_info": {
      "name": "python"
    }
  },
  "cells": [
    {
      "cell_type": "markdown",
      "metadata": {
        "id": "view-in-github",
        "colab_type": "text"
      },
      "source": [
        "<a href=\"https://colab.research.google.com/github/felirox/Arya-DS/blob/main/Arya_DS_Python_Notebook.ipynb\" target=\"_parent\"><img src=\"https://colab.research.google.com/assets/colab-badge.svg\" alt=\"Open In Colab\"/></a>"
      ]
    },
    {
      "cell_type": "markdown",
      "source": [
        "# Importing the Libraries, Dataset and Splitting them accordingly"
      ],
      "metadata": {
        "id": "wzukOCk8JwaL"
      }
    },
    {
      "cell_type": "code",
      "execution_count": 34,
      "metadata": {
        "id": "5J48vxmMId_S"
      },
      "outputs": [],
      "source": [
        "# Importing all the necessary libraries\n",
        "\n",
        "import pandas as pd\n",
        "from keras.models import Sequential\n",
        "from keras.layers import Dense\n",
        "from keras.wrappers.scikit_learn import KerasClassifier\n",
        "from sklearn.model_selection import cross_val_score\n",
        "from sklearn.preprocessing import LabelEncoder\n",
        "from sklearn.model_selection import StratifiedKFold\n",
        "from sklearn.preprocessing import StandardScaler\n",
        "from sklearn.pipeline import Pipeline\n",
        "import matplotlib.pyplot as plt\n",
        "from matplotlib import rcParams\n",
        "import numpy as np\n",
        "from sklearn.preprocessing import StandardScaler\n",
        "import tensorflow as tf\n",
        "import os\n",
        "\n",
        "#Run this only if running via Google Colab, else, comment the next line\n",
        "from google.colab import files"
      ]
    },
    {
      "cell_type": "code",
      "source": [
        "# Downloading the provided dataset\n",
        "\n",
        "!gdown --id 12GAAr58y1bI1vTWknR4MXOxeXHtjZItl\n",
        "\n",
        "# Unzipping the dataset and extracting the files\n",
        "\n",
        "!unzip /content/Arya_DataScientist_Assignment.zip"
      ],
      "metadata": {
        "colab": {
          "base_uri": "https://localhost:8080/"
        },
        "id": "Eo1-GKIjJ3Iv",
        "outputId": "dfa92793-15e1-4096-9fe3-3f154cb0e0b0"
      },
      "execution_count": 25,
      "outputs": [
        {
          "output_type": "stream",
          "name": "stdout",
          "text": [
            "/usr/local/lib/python3.7/dist-packages/gdown/cli.py:131: FutureWarning: Option `--id` was deprecated in version 4.3.1 and will be removed in 5.0. You don't need to pass it anymore to use a file ID.\n",
            "  category=FutureWarning,\n",
            "Downloading...\n",
            "From: https://drive.google.com/uc?id=12GAAr58y1bI1vTWknR4MXOxeXHtjZItl\n",
            "To: /content/Arya_DataScientist_Assignment.zip\n",
            "100% 161k/161k [00:00<00:00, 8.58MB/s]\n",
            "Archive:  /content/Arya_DataScientist_Assignment.zip\n",
            "replace training_set.csv? [y]es, [n]o, [A]ll, [N]one, [r]ename: A\n",
            "  inflating: training_set.csv        \n",
            "  inflating: test_set.csv            \n"
          ]
        }
      ]
    },
    {
      "cell_type": "code",
      "source": [
        "# Using pandas to read the csv as a dataframe\n",
        "\n",
        "train_set=pd.read_csv(\"training_set.csv\")\n",
        "test_set=pd.read_csv(\"test_set.csv\")\n"
      ],
      "metadata": {
        "id": "0ufLqA0UJ5GP"
      },
      "execution_count": 26,
      "outputs": []
    },
    {
      "cell_type": "code",
      "source": [
        "# Shuffling the dataset\n",
        "\n",
        "train_set=train_set.sample(frac=1).reset_index(drop=True)\n",
        "test_set=test_set.sample(frac=1).reset_index(drop=True)\n",
        "\n",
        "# Splitting the dataset to accomodate the said 4/5 ratio - Train and Validation\n",
        "\n",
        "trainlength=len(train_set)\n",
        "n_training_dataset=int(trainlength*4/5)\n",
        "n_validation_dataset=trainlength-n_training_dataset\n",
        "print(\"Total Rows: \",trainlength)\n",
        "print(\"Training No: \",n_training_dataset)\n",
        "print(\"Validation No: \",n_validation_dataset)\n",
        "print(\"Testing No: \",len(test_set))\n",
        "\n",
        "\n",
        "training_dataset=train_set[:n_training_dataset]\n",
        "validation_dataset=train_set[n_training_dataset:]\n",
        "\n"
      ],
      "metadata": {
        "id": "Wb3_PiL3hLv8",
        "colab": {
          "base_uri": "https://localhost:8080/"
        },
        "outputId": "074fe4ff-da4c-4d32-bf16-a67fb649cf2a"
      },
      "execution_count": 27,
      "outputs": [
        {
          "output_type": "stream",
          "name": "stdout",
          "text": [
            "Total Rows:  3910\n",
            "Training No:  3128\n",
            "Validation No:  782\n",
            "Testing No:  691\n"
          ]
        }
      ]
    },
    {
      "cell_type": "code",
      "source": [
        "# Splitting the X and Y datasets for Train and\n",
        "\n",
        "X_train = training_dataset.iloc[:,1:58].astype(float)\n",
        "Y_train = training_dataset.iloc[:,58]\n",
        "\n",
        "X_valid = validation_dataset.iloc[:,1:58].astype(float)\n",
        "Y_valid = validation_dataset.iloc[:,58]\n",
        "\n",
        "X_test = test_set.iloc[:,1:58].astype(float)\n"
      ],
      "metadata": {
        "id": "n5U6A8Urh0Hr"
      },
      "execution_count": 28,
      "outputs": []
    },
    {
      "cell_type": "code",
      "source": [
        "\n",
        "# Standard scaling to standardize the dataset\n",
        "\n",
        "\n",
        "\n",
        "scaler = StandardScaler()\n",
        "X_train_scaled = scaler.fit_transform(X_train)\n",
        "X_valid_scaled = scaler.transform(X_valid)\n",
        "X_test_scaled = scaler.transform(X_test)"
      ],
      "metadata": {
        "id": "tj5cKsaSh1pM"
      },
      "execution_count": 29,
      "outputs": []
    },
    {
      "cell_type": "code",
      "source": [
        "\n",
        "def model_init():\n",
        "    \n",
        "  # 4 layer DNN\n",
        "  model = tf.keras.Sequential([\n",
        "      tf.keras.layers.Dense(128, activation='relu'),\n",
        "      tf.keras.layers.Dense(64, activation='relu'),\n",
        "      tf.keras.layers.Dense(1, activation='sigmoid')\n",
        "  ])\n",
        "  model.compile(\n",
        "      loss=tf.keras.losses.binary_crossentropy,\n",
        "      optimizer=tf.keras.optimizers.Adam(learning_rate=0.0001),\n",
        "      metrics=[\n",
        "          tf.keras.metrics.BinaryAccuracy(name='accuracy'),\n",
        "          tf.keras.metrics.Precision(name='precision'),\n",
        "          tf.keras.metrics.Recall(name='recall')\n",
        "      ]\n",
        "  )\n",
        "  return model \n",
        "\n"
      ],
      "metadata": {
        "id": "hIrMj3Klh17z"
      },
      "execution_count": 30,
      "outputs": []
    },
    {
      "cell_type": "code",
      "source": [
        "no_of_epoch = 100\n",
        "\n",
        "\n",
        "model = model_init()\n",
        "# model.summary()\n",
        "checkpoint_path = \"/content/cp.ckpt\"\n",
        "checkpoint_dir = os.path.dirname(checkpoint_path)\n",
        "\n",
        "  # Create a callback that saves the model's weights\n",
        "cp_callback = tf.keras.callbacks.ModelCheckpoint(filepath=checkpoint_path,\n",
        "                                                  save_weights_only=True,\n",
        "                                                  verbose=1)\n",
        "val_dataset = tf.data.Dataset.from_tensor_slices((X_valid_scaled, Y_valid))\n",
        "val_dataset = val_dataset.batch(64)\n",
        "\n",
        "history = model.fit(X_train_scaled, Y_train, epochs=no_of_epoch,validation_data=val_dataset,callbacks=[cp_callback])\n",
        "model.save(\"my_model_save\")\n",
        "model.save(\"my_model_h5.h5\")"
      ],
      "metadata": {
        "colab": {
          "base_uri": "https://localhost:8080/"
        },
        "id": "scsIoqmoi6LH",
        "outputId": "2426e7c9-e3f8-45c4-f8e2-5645431e3fe8"
      },
      "execution_count": 32,
      "outputs": [
        {
          "output_type": "stream",
          "name": "stdout",
          "text": [
            "Epoch 1/100\n",
            "96/98 [============================>.] - ETA: 0s - loss: 0.6421 - accuracy: 0.6794 - precision: 0.5667 - recall: 0.8267\n",
            "Epoch 1: saving model to /content/cp.ckpt\n",
            "98/98 [==============================] - 4s 13ms/step - loss: 0.6397 - accuracy: 0.6822 - precision: 0.5690 - recall: 0.8237 - val_loss: 0.5358 - val_accuracy: 0.8159 - val_precision: 0.7741 - val_recall: 0.7158\n",
            "Epoch 2/100\n",
            "78/98 [======================>.......] - ETA: 0s - loss: 0.4820 - accuracy: 0.8474 - precision: 0.8862 - recall: 0.7004\n",
            "Epoch 2: saving model to /content/cp.ckpt\n",
            "98/98 [==============================] - 0s 2ms/step - loss: 0.4717 - accuracy: 0.8517 - precision: 0.8937 - recall: 0.7110 - val_loss: 0.4263 - val_accuracy: 0.8670 - val_precision: 0.8790 - val_recall: 0.7466\n",
            "Epoch 3/100\n",
            "84/98 [========================>.....] - ETA: 0s - loss: 0.3853 - accuracy: 0.8869 - precision: 0.9252 - recall: 0.7777\n",
            "Epoch 3: saving model to /content/cp.ckpt\n",
            "98/98 [==============================] - 0s 2ms/step - loss: 0.3820 - accuracy: 0.8865 - precision: 0.9228 - recall: 0.7794 - val_loss: 0.3601 - val_accuracy: 0.8875 - val_precision: 0.8893 - val_recall: 0.7979\n",
            "Epoch 4/100\n",
            "78/98 [======================>.......] - ETA: 0s - loss: 0.3215 - accuracy: 0.9058 - precision: 0.9356 - recall: 0.8196\n",
            "Epoch 4: saving model to /content/cp.ckpt\n",
            "98/98 [==============================] - 0s 2ms/step - loss: 0.3233 - accuracy: 0.9012 - precision: 0.9307 - recall: 0.8116 - val_loss: 0.3197 - val_accuracy: 0.8964 - val_precision: 0.9011 - val_recall: 0.8116\n",
            "Epoch 5/100\n",
            "80/98 [=======================>......] - ETA: 0s - loss: 0.2923 - accuracy: 0.9059 - precision: 0.9238 - recall: 0.8324\n",
            "Epoch 5: saving model to /content/cp.ckpt\n",
            "98/98 [==============================] - 0s 2ms/step - loss: 0.2856 - accuracy: 0.9121 - precision: 0.9336 - recall: 0.8382 - val_loss: 0.2934 - val_accuracy: 0.9041 - val_precision: 0.9157 - val_recall: 0.8185\n",
            "Epoch 6/100\n",
            "75/98 [=====================>........] - ETA: 0s - loss: 0.2623 - accuracy: 0.9179 - precision: 0.9374 - recall: 0.8530\n",
            "Epoch 6: saving model to /content/cp.ckpt\n",
            "98/98 [==============================] - 0s 2ms/step - loss: 0.2597 - accuracy: 0.9191 - precision: 0.9334 - recall: 0.8575 - val_loss: 0.2760 - val_accuracy: 0.9105 - val_precision: 0.9142 - val_recall: 0.8390\n",
            "Epoch 7/100\n",
            "80/98 [=======================>......] - ETA: 0s - loss: 0.2384 - accuracy: 0.9262 - precision: 0.9352 - recall: 0.8731\n",
            "Epoch 7: saving model to /content/cp.ckpt\n",
            "98/98 [==============================] - 0s 2ms/step - loss: 0.2412 - accuracy: 0.9239 - precision: 0.9328 - recall: 0.8712 - val_loss: 0.2629 - val_accuracy: 0.9118 - val_precision: 0.9145 - val_recall: 0.8425\n",
            "Epoch 8/100\n",
            "98/98 [==============================] - ETA: 0s - loss: 0.2265 - accuracy: 0.9265 - precision: 0.9340 - recall: 0.8768\n",
            "Epoch 8: saving model to /content/cp.ckpt\n",
            "98/98 [==============================] - 0s 3ms/step - loss: 0.2265 - accuracy: 0.9265 - precision: 0.9340 - recall: 0.8768 - val_loss: 0.2515 - val_accuracy: 0.9169 - val_precision: 0.9127 - val_recall: 0.8596\n",
            "Epoch 9/100\n",
            "76/98 [======================>.......] - ETA: 0s - loss: 0.2193 - accuracy: 0.9264 - precision: 0.9322 - recall: 0.8794\n",
            "Epoch 9: saving model to /content/cp.ckpt\n",
            "98/98 [==============================] - 0s 2ms/step - loss: 0.2146 - accuracy: 0.9287 - precision: 0.9344 - recall: 0.8824 - val_loss: 0.2417 - val_accuracy: 0.9182 - val_precision: 0.9130 - val_recall: 0.8630\n",
            "Epoch 10/100\n",
            "76/98 [======================>.......] - ETA: 0s - loss: 0.2129 - accuracy: 0.9260 - precision: 0.9383 - recall: 0.8730\n",
            "Epoch 10: saving model to /content/cp.ckpt\n",
            "98/98 [==============================] - 0s 2ms/step - loss: 0.2048 - accuracy: 0.9303 - precision: 0.9369 - recall: 0.8841 - val_loss: 0.2346 - val_accuracy: 0.9207 - val_precision: 0.9137 - val_recall: 0.8699\n",
            "Epoch 11/100\n",
            "78/98 [======================>.......] - ETA: 0s - loss: 0.2037 - accuracy: 0.9315 - precision: 0.9363 - recall: 0.8882\n",
            "Epoch 11: saving model to /content/cp.ckpt\n",
            "98/98 [==============================] - 0s 2ms/step - loss: 0.1965 - accuracy: 0.9341 - precision: 0.9390 - recall: 0.8921 - val_loss: 0.2287 - val_accuracy: 0.9284 - val_precision: 0.9275 - val_recall: 0.8767\n",
            "Epoch 12/100\n",
            "77/98 [======================>.......] - ETA: 0s - loss: 0.1894 - accuracy: 0.9343 - precision: 0.9369 - recall: 0.8922\n",
            "Epoch 12: saving model to /content/cp.ckpt\n",
            "98/98 [==============================] - 0s 2ms/step - loss: 0.1892 - accuracy: 0.9373 - precision: 0.9432 - recall: 0.8961 - val_loss: 0.2239 - val_accuracy: 0.9284 - val_precision: 0.9245 - val_recall: 0.8801\n",
            "Epoch 13/100\n",
            "78/98 [======================>.......] - ETA: 0s - loss: 0.1832 - accuracy: 0.9399 - precision: 0.9432 - recall: 0.9032\n",
            "Epoch 13: saving model to /content/cp.ckpt\n",
            "98/98 [==============================] - 0s 2ms/step - loss: 0.1828 - accuracy: 0.9399 - precision: 0.9414 - recall: 0.9050 - val_loss: 0.2193 - val_accuracy: 0.9297 - val_precision: 0.9278 - val_recall: 0.8801\n",
            "Epoch 14/100\n",
            "74/98 [=====================>........] - ETA: 0s - loss: 0.1863 - accuracy: 0.9383 - precision: 0.9408 - recall: 0.9006\n",
            "Epoch 14: saving model to /content/cp.ckpt\n",
            "98/98 [==============================] - 0s 3ms/step - loss: 0.1774 - accuracy: 0.9425 - precision: 0.9455 - recall: 0.9074 - val_loss: 0.2154 - val_accuracy: 0.9297 - val_precision: 0.9278 - val_recall: 0.8801\n",
            "Epoch 15/100\n",
            "76/98 [======================>.......] - ETA: 0s - loss: 0.1747 - accuracy: 0.9437 - precision: 0.9450 - recall: 0.9106\n",
            "Epoch 15: saving model to /content/cp.ckpt\n",
            "98/98 [==============================] - 0s 2ms/step - loss: 0.1725 - accuracy: 0.9431 - precision: 0.9448 - recall: 0.9098 - val_loss: 0.2122 - val_accuracy: 0.9309 - val_precision: 0.9281 - val_recall: 0.8836\n",
            "Epoch 16/100\n",
            "82/98 [========================>.....] - ETA: 0s - loss: 0.1653 - accuracy: 0.9463 - precision: 0.9470 - recall: 0.9150\n",
            "Epoch 16: saving model to /content/cp.ckpt\n",
            "98/98 [==============================] - 0s 2ms/step - loss: 0.1678 - accuracy: 0.9457 - precision: 0.9474 - recall: 0.9138 - val_loss: 0.2094 - val_accuracy: 0.9297 - val_precision: 0.9247 - val_recall: 0.8836\n",
            "Epoch 17/100\n",
            "85/98 [=========================>....] - ETA: 0s - loss: 0.1614 - accuracy: 0.9478 - precision: 0.9469 - recall: 0.9207\n",
            "Epoch 17: saving model to /content/cp.ckpt\n",
            "98/98 [==============================] - 0s 2ms/step - loss: 0.1641 - accuracy: 0.9473 - precision: 0.9454 - recall: 0.9203 - val_loss: 0.2077 - val_accuracy: 0.9322 - val_precision: 0.9314 - val_recall: 0.8836\n",
            "Epoch 18/100\n",
            "97/98 [============================>.] - ETA: 0s - loss: 0.1586 - accuracy: 0.9494 - precision: 0.9521 - recall: 0.9188\n",
            "Epoch 18: saving model to /content/cp.ckpt\n",
            "98/98 [==============================] - 0s 3ms/step - loss: 0.1604 - accuracy: 0.9488 - precision: 0.9516 - recall: 0.9179 - val_loss: 0.2052 - val_accuracy: 0.9309 - val_precision: 0.9250 - val_recall: 0.8870\n",
            "Epoch 19/100\n",
            "79/98 [=======================>......] - ETA: 0s - loss: 0.1528 - accuracy: 0.9521 - precision: 0.9500 - recall: 0.9282\n",
            "Epoch 19: saving model to /content/cp.ckpt\n",
            "98/98 [==============================] - 0s 2ms/step - loss: 0.1567 - accuracy: 0.9517 - precision: 0.9505 - recall: 0.9267 - val_loss: 0.2024 - val_accuracy: 0.9297 - val_precision: 0.9247 - val_recall: 0.8836\n",
            "Epoch 20/100\n",
            "83/98 [========================>.....] - ETA: 0s - loss: 0.1554 - accuracy: 0.9507 - precision: 0.9506 - recall: 0.9223\n",
            "Epoch 20: saving model to /content/cp.ckpt\n",
            "98/98 [==============================] - 0s 2ms/step - loss: 0.1535 - accuracy: 0.9520 - precision: 0.9512 - recall: 0.9267 - val_loss: 0.2000 - val_accuracy: 0.9297 - val_precision: 0.9247 - val_recall: 0.8836\n",
            "Epoch 21/100\n",
            "75/98 [=====================>........] - ETA: 0s - loss: 0.1537 - accuracy: 0.9533 - precision: 0.9464 - recall: 0.9343\n",
            "Epoch 21: saving model to /content/cp.ckpt\n",
            "98/98 [==============================] - 0s 2ms/step - loss: 0.1507 - accuracy: 0.9536 - precision: 0.9485 - recall: 0.9340 - val_loss: 0.1986 - val_accuracy: 0.9297 - val_precision: 0.9247 - val_recall: 0.8836\n",
            "Epoch 22/100\n",
            "95/98 [============================>.] - ETA: 0s - loss: 0.1480 - accuracy: 0.9543 - precision: 0.9526 - recall: 0.9313\n",
            "Epoch 22: saving model to /content/cp.ckpt\n",
            "98/98 [==============================] - 0s 3ms/step - loss: 0.1476 - accuracy: 0.9536 - precision: 0.9500 - recall: 0.9324 - val_loss: 0.1963 - val_accuracy: 0.9297 - val_precision: 0.9247 - val_recall: 0.8836\n",
            "Epoch 23/100\n",
            "77/98 [======================>.......] - ETA: 0s - loss: 0.1443 - accuracy: 0.9550 - precision: 0.9490 - recall: 0.9363\n",
            "Epoch 23: saving model to /content/cp.ckpt\n",
            "98/98 [==============================] - 0s 2ms/step - loss: 0.1451 - accuracy: 0.9540 - precision: 0.9507 - recall: 0.9324 - val_loss: 0.1948 - val_accuracy: 0.9322 - val_precision: 0.9253 - val_recall: 0.8904\n",
            "Epoch 24/100\n",
            "75/98 [=====================>........] - ETA: 0s - loss: 0.1409 - accuracy: 0.9546 - precision: 0.9508 - recall: 0.9361\n",
            "Epoch 24: saving model to /content/cp.ckpt\n",
            "98/98 [==============================] - 0s 2ms/step - loss: 0.1425 - accuracy: 0.9543 - precision: 0.9493 - recall: 0.9348 - val_loss: 0.1935 - val_accuracy: 0.9297 - val_precision: 0.9247 - val_recall: 0.8836\n",
            "Epoch 25/100\n",
            "77/98 [======================>.......] - ETA: 0s - loss: 0.1408 - accuracy: 0.9550 - precision: 0.9525 - recall: 0.9318\n",
            "Epoch 25: saving model to /content/cp.ckpt\n",
            "98/98 [==============================] - 0s 2ms/step - loss: 0.1399 - accuracy: 0.9556 - precision: 0.9517 - recall: 0.9356 - val_loss: 0.1920 - val_accuracy: 0.9322 - val_precision: 0.9253 - val_recall: 0.8904\n",
            "Epoch 26/100\n",
            "95/98 [============================>.] - ETA: 0s - loss: 0.1353 - accuracy: 0.9559 - precision: 0.9528 - recall: 0.9354\n",
            "Epoch 26: saving model to /content/cp.ckpt\n",
            "98/98 [==============================] - 0s 3ms/step - loss: 0.1376 - accuracy: 0.9556 - precision: 0.9517 - recall: 0.9356 - val_loss: 0.1907 - val_accuracy: 0.9309 - val_precision: 0.9250 - val_recall: 0.8870\n",
            "Epoch 27/100\n",
            "98/98 [==============================] - ETA: 0s - loss: 0.1353 - accuracy: 0.9562 - precision: 0.9518 - recall: 0.9372\n",
            "Epoch 27: saving model to /content/cp.ckpt\n",
            "98/98 [==============================] - 0s 3ms/step - loss: 0.1353 - accuracy: 0.9562 - precision: 0.9518 - recall: 0.9372 - val_loss: 0.1892 - val_accuracy: 0.9309 - val_precision: 0.9250 - val_recall: 0.8870\n",
            "Epoch 28/100\n",
            "98/98 [==============================] - ETA: 0s - loss: 0.1332 - accuracy: 0.9556 - precision: 0.9539 - recall: 0.9332\n",
            "Epoch 28: saving model to /content/cp.ckpt\n",
            "98/98 [==============================] - 0s 3ms/step - loss: 0.1332 - accuracy: 0.9556 - precision: 0.9539 - recall: 0.9332 - val_loss: 0.1875 - val_accuracy: 0.9322 - val_precision: 0.9223 - val_recall: 0.8938\n",
            "Epoch 29/100\n",
            "81/98 [=======================>......] - ETA: 0s - loss: 0.1304 - accuracy: 0.9541 - precision: 0.9509 - recall: 0.9335\n",
            "Epoch 29: saving model to /content/cp.ckpt\n",
            "98/98 [==============================] - 0s 2ms/step - loss: 0.1313 - accuracy: 0.9552 - precision: 0.9494 - recall: 0.9372 - val_loss: 0.1861 - val_accuracy: 0.9335 - val_precision: 0.9255 - val_recall: 0.8938\n",
            "Epoch 30/100\n",
            "98/98 [==============================] - ETA: 0s - loss: 0.1292 - accuracy: 0.9565 - precision: 0.9540 - recall: 0.9356\n",
            "Epoch 30: saving model to /content/cp.ckpt\n",
            "98/98 [==============================] - 0s 3ms/step - loss: 0.1292 - accuracy: 0.9565 - precision: 0.9540 - recall: 0.9356 - val_loss: 0.1847 - val_accuracy: 0.9322 - val_precision: 0.9223 - val_recall: 0.8938\n",
            "Epoch 31/100\n",
            "80/98 [=======================>......] - ETA: 0s - loss: 0.1278 - accuracy: 0.9547 - precision: 0.9510 - recall: 0.9342\n",
            "Epoch 31: saving model to /content/cp.ckpt\n",
            "98/98 [==============================] - 0s 2ms/step - loss: 0.1274 - accuracy: 0.9565 - precision: 0.9511 - recall: 0.9388 - val_loss: 0.1839 - val_accuracy: 0.9335 - val_precision: 0.9255 - val_recall: 0.8938\n",
            "Epoch 32/100\n",
            "93/98 [===========================>..] - ETA: 0s - loss: 0.1250 - accuracy: 0.9580 - precision: 0.9527 - recall: 0.9405\n",
            "Epoch 32: saving model to /content/cp.ckpt\n",
            "98/98 [==============================] - 0s 3ms/step - loss: 0.1254 - accuracy: 0.9572 - precision: 0.9519 - recall: 0.9396 - val_loss: 0.1836 - val_accuracy: 0.9322 - val_precision: 0.9223 - val_recall: 0.8938\n",
            "Epoch 33/100\n",
            "82/98 [========================>.....] - ETA: 0s - loss: 0.1207 - accuracy: 0.9596 - precision: 0.9544 - recall: 0.9434\n",
            "Epoch 33: saving model to /content/cp.ckpt\n",
            "98/98 [==============================] - 0s 2ms/step - loss: 0.1235 - accuracy: 0.9575 - precision: 0.9512 - recall: 0.9412 - val_loss: 0.1823 - val_accuracy: 0.9309 - val_precision: 0.9220 - val_recall: 0.8904\n",
            "Epoch 34/100\n",
            "75/98 [=====================>........] - ETA: 0s - loss: 0.1245 - accuracy: 0.9588 - precision: 0.9592 - recall: 0.9361\n",
            "Epoch 34: saving model to /content/cp.ckpt\n",
            "98/98 [==============================] - 0s 2ms/step - loss: 0.1219 - accuracy: 0.9578 - precision: 0.9549 - recall: 0.9380 - val_loss: 0.1807 - val_accuracy: 0.9309 - val_precision: 0.9190 - val_recall: 0.8938\n",
            "Epoch 35/100\n",
            "83/98 [========================>.....] - ETA: 0s - loss: 0.1227 - accuracy: 0.9578 - precision: 0.9563 - recall: 0.9385\n",
            "Epoch 35: saving model to /content/cp.ckpt\n",
            "98/98 [==============================] - 0s 2ms/step - loss: 0.1200 - accuracy: 0.9591 - precision: 0.9566 - recall: 0.9396 - val_loss: 0.1798 - val_accuracy: 0.9322 - val_precision: 0.9223 - val_recall: 0.8938\n",
            "Epoch 36/100\n",
            "84/98 [========================>.....] - ETA: 0s - loss: 0.1171 - accuracy: 0.9591 - precision: 0.9547 - recall: 0.9423\n",
            "Epoch 36: saving model to /content/cp.ckpt\n",
            "98/98 [==============================] - 0s 2ms/step - loss: 0.1184 - accuracy: 0.9591 - precision: 0.9558 - recall: 0.9404 - val_loss: 0.1794 - val_accuracy: 0.9322 - val_precision: 0.9223 - val_recall: 0.8938\n",
            "Epoch 37/100\n",
            "83/98 [========================>.....] - ETA: 0s - loss: 0.1190 - accuracy: 0.9593 - precision: 0.9536 - recall: 0.9426\n",
            "Epoch 37: saving model to /content/cp.ckpt\n",
            "98/98 [==============================] - 0s 3ms/step - loss: 0.1168 - accuracy: 0.9594 - precision: 0.9566 - recall: 0.9404 - val_loss: 0.1786 - val_accuracy: 0.9309 - val_precision: 0.9220 - val_recall: 0.8904\n",
            "Epoch 38/100\n",
            "77/98 [======================>.......] - ETA: 0s - loss: 0.1194 - accuracy: 0.9586 - precision: 0.9526 - recall: 0.9450\n",
            "Epoch 38: saving model to /content/cp.ckpt\n",
            "98/98 [==============================] - 0s 2ms/step - loss: 0.1153 - accuracy: 0.9600 - precision: 0.9544 - recall: 0.9444 - val_loss: 0.1786 - val_accuracy: 0.9309 - val_precision: 0.9220 - val_recall: 0.8904\n",
            "Epoch 39/100\n",
            "80/98 [=======================>......] - ETA: 0s - loss: 0.1172 - accuracy: 0.9602 - precision: 0.9576 - recall: 0.9405\n",
            "Epoch 39: saving model to /content/cp.ckpt\n",
            "98/98 [==============================] - 0s 2ms/step - loss: 0.1137 - accuracy: 0.9607 - precision: 0.9567 - recall: 0.9436 - val_loss: 0.1774 - val_accuracy: 0.9335 - val_precision: 0.9196 - val_recall: 0.9007\n",
            "Epoch 40/100\n",
            "79/98 [=======================>......] - ETA: 0s - loss: 0.1194 - accuracy: 0.9608 - precision: 0.9621 - recall: 0.9405\n",
            "Epoch 40: saving model to /content/cp.ckpt\n",
            "98/98 [==============================] - 0s 2ms/step - loss: 0.1123 - accuracy: 0.9632 - precision: 0.9608 - recall: 0.9461 - val_loss: 0.1778 - val_accuracy: 0.9322 - val_precision: 0.9223 - val_recall: 0.8938\n",
            "Epoch 41/100\n",
            "79/98 [=======================>......] - ETA: 0s - loss: 0.1096 - accuracy: 0.9648 - precision: 0.9645 - recall: 0.9463\n",
            "Epoch 41: saving model to /content/cp.ckpt\n",
            "98/98 [==============================] - 0s 2ms/step - loss: 0.1105 - accuracy: 0.9642 - precision: 0.9654 - recall: 0.9436 - val_loss: 0.1769 - val_accuracy: 0.9335 - val_precision: 0.9167 - val_recall: 0.9041\n",
            "Epoch 42/100\n",
            "97/98 [============================>.] - ETA: 0s - loss: 0.1098 - accuracy: 0.9626 - precision: 0.9574 - recall: 0.9481\n",
            "Epoch 42: saving model to /content/cp.ckpt\n",
            "98/98 [==============================] - 0s 3ms/step - loss: 0.1095 - accuracy: 0.9629 - precision: 0.9577 - recall: 0.9485 - val_loss: 0.1762 - val_accuracy: 0.9335 - val_precision: 0.9196 - val_recall: 0.9007\n",
            "Epoch 43/100\n",
            "83/98 [========================>.....] - ETA: 0s - loss: 0.1082 - accuracy: 0.9623 - precision: 0.9584 - recall: 0.9456\n",
            "Epoch 43: saving model to /content/cp.ckpt\n",
            "98/98 [==============================] - 0s 2ms/step - loss: 0.1079 - accuracy: 0.9636 - precision: 0.9600 - recall: 0.9477 - val_loss: 0.1761 - val_accuracy: 0.9322 - val_precision: 0.9193 - val_recall: 0.8973\n",
            "Epoch 44/100\n",
            "78/98 [======================>.......] - ETA: 0s - loss: 0.1012 - accuracy: 0.9675 - precision: 0.9665 - recall: 0.9520\n",
            "Epoch 44: saving model to /content/cp.ckpt\n",
            "98/98 [==============================] - 0s 2ms/step - loss: 0.1065 - accuracy: 0.9648 - precision: 0.9624 - recall: 0.9485 - val_loss: 0.1753 - val_accuracy: 0.9322 - val_precision: 0.9193 - val_recall: 0.8973\n",
            "Epoch 45/100\n",
            "78/98 [======================>.......] - ETA: 0s - loss: 0.1050 - accuracy: 0.9671 - precision: 0.9667 - recall: 0.9514\n",
            "Epoch 45: saving model to /content/cp.ckpt\n",
            "98/98 [==============================] - 0s 2ms/step - loss: 0.1053 - accuracy: 0.9648 - precision: 0.9632 - recall: 0.9477 - val_loss: 0.1751 - val_accuracy: 0.9322 - val_precision: 0.9193 - val_recall: 0.8973\n",
            "Epoch 46/100\n",
            "98/98 [==============================] - ETA: 0s - loss: 0.1038 - accuracy: 0.9648 - precision: 0.9632 - recall: 0.9477\n",
            "Epoch 46: saving model to /content/cp.ckpt\n",
            "98/98 [==============================] - 0s 3ms/step - loss: 0.1038 - accuracy: 0.9648 - precision: 0.9632 - recall: 0.9477 - val_loss: 0.1746 - val_accuracy: 0.9335 - val_precision: 0.9196 - val_recall: 0.9007\n",
            "Epoch 47/100\n",
            "73/98 [=====================>........] - ETA: 0s - loss: 0.1000 - accuracy: 0.9675 - precision: 0.9633 - recall: 0.9526\n",
            "Epoch 47: saving model to /content/cp.ckpt\n",
            "98/98 [==============================] - 0s 3ms/step - loss: 0.1027 - accuracy: 0.9645 - precision: 0.9624 - recall: 0.9477 - val_loss: 0.1753 - val_accuracy: 0.9335 - val_precision: 0.9196 - val_recall: 0.9007\n",
            "Epoch 48/100\n",
            "76/98 [======================>.......] - ETA: 0s - loss: 0.1012 - accuracy: 0.9655 - precision: 0.9641 - recall: 0.9455\n",
            "Epoch 48: saving model to /content/cp.ckpt\n",
            "98/98 [==============================] - 0s 3ms/step - loss: 0.1014 - accuracy: 0.9652 - precision: 0.9647 - recall: 0.9469 - val_loss: 0.1760 - val_accuracy: 0.9361 - val_precision: 0.9144 - val_recall: 0.9144\n",
            "Epoch 49/100\n",
            "78/98 [======================>.......] - ETA: 0s - loss: 0.0965 - accuracy: 0.9655 - precision: 0.9627 - recall: 0.9511\n",
            "Epoch 49: saving model to /content/cp.ckpt\n",
            "98/98 [==============================] - 0s 2ms/step - loss: 0.1006 - accuracy: 0.9655 - precision: 0.9640 - recall: 0.9485 - val_loss: 0.1746 - val_accuracy: 0.9322 - val_precision: 0.9164 - val_recall: 0.9007\n",
            "Epoch 50/100\n",
            "74/98 [=====================>........] - ETA: 0s - loss: 0.0959 - accuracy: 0.9671 - precision: 0.9664 - recall: 0.9499\n",
            "Epoch 50: saving model to /content/cp.ckpt\n",
            "98/98 [==============================] - 0s 2ms/step - loss: 0.0992 - accuracy: 0.9658 - precision: 0.9633 - recall: 0.9501 - val_loss: 0.1740 - val_accuracy: 0.9335 - val_precision: 0.9196 - val_recall: 0.9007\n",
            "Epoch 51/100\n",
            "94/98 [===========================>..] - ETA: 0s - loss: 0.0965 - accuracy: 0.9654 - precision: 0.9637 - recall: 0.9492\n",
            "Epoch 51: saving model to /content/cp.ckpt\n",
            "98/98 [==============================] - 0s 3ms/step - loss: 0.0980 - accuracy: 0.9658 - precision: 0.9640 - recall: 0.9493 - val_loss: 0.1742 - val_accuracy: 0.9335 - val_precision: 0.9167 - val_recall: 0.9041\n",
            "Epoch 52/100\n",
            "78/98 [======================>.......] - ETA: 0s - loss: 0.0977 - accuracy: 0.9655 - precision: 0.9626 - recall: 0.9510\n",
            "Epoch 52: saving model to /content/cp.ckpt\n",
            "98/98 [==============================] - 0s 2ms/step - loss: 0.0966 - accuracy: 0.9661 - precision: 0.9633 - recall: 0.9509 - val_loss: 0.1741 - val_accuracy: 0.9335 - val_precision: 0.9225 - val_recall: 0.8973\n",
            "Epoch 53/100\n",
            "96/98 [============================>.] - ETA: 0s - loss: 0.0959 - accuracy: 0.9671 - precision: 0.9683 - recall: 0.9485\n",
            "Epoch 53: saving model to /content/cp.ckpt\n",
            "98/98 [==============================] - 0s 3ms/step - loss: 0.0958 - accuracy: 0.9671 - precision: 0.9672 - recall: 0.9493 - val_loss: 0.1745 - val_accuracy: 0.9348 - val_precision: 0.9170 - val_recall: 0.9075\n",
            "Epoch 54/100\n",
            "98/98 [==============================] - ETA: 0s - loss: 0.0944 - accuracy: 0.9684 - precision: 0.9688 - recall: 0.9509\n",
            "Epoch 54: saving model to /content/cp.ckpt\n",
            "98/98 [==============================] - 0s 3ms/step - loss: 0.0944 - accuracy: 0.9684 - precision: 0.9688 - recall: 0.9509 - val_loss: 0.1740 - val_accuracy: 0.9361 - val_precision: 0.9172 - val_recall: 0.9110\n",
            "Epoch 55/100\n",
            "77/98 [======================>.......] - ETA: 0s - loss: 0.0932 - accuracy: 0.9696 - precision: 0.9652 - recall: 0.9583\n",
            "Epoch 55: saving model to /content/cp.ckpt\n",
            "98/98 [==============================] - 0s 2ms/step - loss: 0.0935 - accuracy: 0.9668 - precision: 0.9634 - recall: 0.9525 - val_loss: 0.1741 - val_accuracy: 0.9348 - val_precision: 0.9170 - val_recall: 0.9075\n",
            "Epoch 56/100\n",
            "76/98 [======================>.......] - ETA: 0s - loss: 0.0911 - accuracy: 0.9667 - precision: 0.9660 - recall: 0.9513\n",
            "Epoch 56: saving model to /content/cp.ckpt\n",
            "98/98 [==============================] - 0s 2ms/step - loss: 0.0925 - accuracy: 0.9677 - precision: 0.9650 - recall: 0.9533 - val_loss: 0.1738 - val_accuracy: 0.9373 - val_precision: 0.9233 - val_recall: 0.9075\n",
            "Epoch 57/100\n",
            "97/98 [============================>.] - ETA: 0s - loss: 0.0911 - accuracy: 0.9691 - precision: 0.9687 - recall: 0.9530\n",
            "Epoch 57: saving model to /content/cp.ckpt\n",
            "98/98 [==============================] - 0s 3ms/step - loss: 0.0910 - accuracy: 0.9693 - precision: 0.9689 - recall: 0.9533 - val_loss: 0.1734 - val_accuracy: 0.9373 - val_precision: 0.9233 - val_recall: 0.9075\n",
            "Epoch 58/100\n",
            "77/98 [======================>.......] - ETA: 0s - loss: 0.0881 - accuracy: 0.9696 - precision: 0.9740 - recall: 0.9493\n",
            "Epoch 58: saving model to /content/cp.ckpt\n",
            "98/98 [==============================] - 0s 2ms/step - loss: 0.0901 - accuracy: 0.9690 - precision: 0.9689 - recall: 0.9525 - val_loss: 0.1743 - val_accuracy: 0.9373 - val_precision: 0.9204 - val_recall: 0.9110\n",
            "Epoch 59/100\n",
            "78/98 [======================>.......] - ETA: 0s - loss: 0.0859 - accuracy: 0.9724 - precision: 0.9733 - recall: 0.9566\n",
            "Epoch 59: saving model to /content/cp.ckpt\n",
            "98/98 [==============================] - 0s 2ms/step - loss: 0.0891 - accuracy: 0.9696 - precision: 0.9705 - recall: 0.9525 - val_loss: 0.1750 - val_accuracy: 0.9361 - val_precision: 0.9172 - val_recall: 0.9110\n",
            "Epoch 60/100\n",
            "76/98 [======================>.......] - ETA: 0s - loss: 0.0860 - accuracy: 0.9708 - precision: 0.9683 - recall: 0.9572\n",
            "Epoch 60: saving model to /content/cp.ckpt\n",
            "98/98 [==============================] - 0s 3ms/step - loss: 0.0883 - accuracy: 0.9703 - precision: 0.9705 - recall: 0.9541 - val_loss: 0.1747 - val_accuracy: 0.9361 - val_precision: 0.9201 - val_recall: 0.9075\n",
            "Epoch 61/100\n",
            "80/98 [=======================>......] - ETA: 0s - loss: 0.0867 - accuracy: 0.9699 - precision: 0.9677 - recall: 0.9574\n",
            "Epoch 61: saving model to /content/cp.ckpt\n",
            "98/98 [==============================] - 0s 2ms/step - loss: 0.0868 - accuracy: 0.9706 - precision: 0.9675 - recall: 0.9581 - val_loss: 0.1765 - val_accuracy: 0.9348 - val_precision: 0.9228 - val_recall: 0.9007\n",
            "Epoch 62/100\n",
            "97/98 [============================>.] - ETA: 0s - loss: 0.0864 - accuracy: 0.9720 - precision: 0.9743 - recall: 0.9545\n",
            "Epoch 62: saving model to /content/cp.ckpt\n",
            "98/98 [==============================] - 0s 3ms/step - loss: 0.0863 - accuracy: 0.9719 - precision: 0.9745 - recall: 0.9541 - val_loss: 0.1762 - val_accuracy: 0.9348 - val_precision: 0.9199 - val_recall: 0.9041\n",
            "Epoch 63/100\n",
            "95/98 [============================>.] - ETA: 0s - loss: 0.0855 - accuracy: 0.9711 - precision: 0.9729 - recall: 0.9535\n",
            "Epoch 63: saving model to /content/cp.ckpt\n",
            "98/98 [==============================] - 0s 3ms/step - loss: 0.0852 - accuracy: 0.9712 - precision: 0.9729 - recall: 0.9541 - val_loss: 0.1747 - val_accuracy: 0.9373 - val_precision: 0.9204 - val_recall: 0.9110\n",
            "Epoch 64/100\n",
            "79/98 [=======================>......] - ETA: 0s - loss: 0.0858 - accuracy: 0.9711 - precision: 0.9711 - recall: 0.9544\n",
            "Epoch 64: saving model to /content/cp.ckpt\n",
            "98/98 [==============================] - 0s 2ms/step - loss: 0.0841 - accuracy: 0.9725 - precision: 0.9730 - recall: 0.9573 - val_loss: 0.1755 - val_accuracy: 0.9361 - val_precision: 0.9201 - val_recall: 0.9075\n",
            "Epoch 65/100\n",
            "76/98 [======================>.......] - ETA: 0s - loss: 0.0818 - accuracy: 0.9716 - precision: 0.9734 - recall: 0.9541\n",
            "Epoch 65: saving model to /content/cp.ckpt\n",
            "98/98 [==============================] - 0s 2ms/step - loss: 0.0830 - accuracy: 0.9735 - precision: 0.9754 - recall: 0.9573 - val_loss: 0.1763 - val_accuracy: 0.9361 - val_precision: 0.9201 - val_recall: 0.9075\n",
            "Epoch 66/100\n",
            "75/98 [=====================>........] - ETA: 0s - loss: 0.0850 - accuracy: 0.9708 - precision: 0.9721 - recall: 0.9537\n",
            "Epoch 66: saving model to /content/cp.ckpt\n",
            "98/98 [==============================] - 0s 2ms/step - loss: 0.0822 - accuracy: 0.9731 - precision: 0.9738 - recall: 0.9581 - val_loss: 0.1777 - val_accuracy: 0.9348 - val_precision: 0.9199 - val_recall: 0.9041\n",
            "Epoch 67/100\n",
            "75/98 [=====================>........] - ETA: 0s - loss: 0.0828 - accuracy: 0.9737 - precision: 0.9791 - recall: 0.9528\n",
            "Epoch 67: saving model to /content/cp.ckpt\n",
            "98/98 [==============================] - 0s 2ms/step - loss: 0.0816 - accuracy: 0.9741 - precision: 0.9778 - recall: 0.9565 - val_loss: 0.1793 - val_accuracy: 0.9348 - val_precision: 0.9199 - val_recall: 0.9041\n",
            "Epoch 68/100\n",
            "82/98 [========================>.....] - ETA: 0s - loss: 0.0809 - accuracy: 0.9748 - precision: 0.9772 - recall: 0.9581\n",
            "Epoch 68: saving model to /content/cp.ckpt\n",
            "98/98 [==============================] - 0s 2ms/step - loss: 0.0802 - accuracy: 0.9751 - precision: 0.9778 - recall: 0.9589 - val_loss: 0.1784 - val_accuracy: 0.9361 - val_precision: 0.9201 - val_recall: 0.9075\n",
            "Epoch 69/100\n",
            "75/98 [=====================>........] - ETA: 0s - loss: 0.0865 - accuracy: 0.9729 - precision: 0.9772 - recall: 0.9534\n",
            "Epoch 69: saving model to /content/cp.ckpt\n",
            "98/98 [==============================] - 0s 2ms/step - loss: 0.0796 - accuracy: 0.9754 - precision: 0.9779 - recall: 0.9597 - val_loss: 0.1793 - val_accuracy: 0.9348 - val_precision: 0.9199 - val_recall: 0.9041\n",
            "Epoch 70/100\n",
            "94/98 [===========================>..] - ETA: 0s - loss: 0.0756 - accuracy: 0.9771 - precision: 0.9794 - recall: 0.9621\n",
            "Epoch 70: saving model to /content/cp.ckpt\n",
            "98/98 [==============================] - 0s 3ms/step - loss: 0.0787 - accuracy: 0.9754 - precision: 0.9786 - recall: 0.9589 - val_loss: 0.1808 - val_accuracy: 0.9361 - val_precision: 0.9201 - val_recall: 0.9075\n",
            "Epoch 71/100\n",
            "82/98 [========================>.....] - ETA: 0s - loss: 0.0770 - accuracy: 0.9768 - precision: 0.9796 - recall: 0.9619\n",
            "Epoch 71: saving model to /content/cp.ckpt\n",
            "98/98 [==============================] - 0s 2ms/step - loss: 0.0783 - accuracy: 0.9760 - precision: 0.9763 - recall: 0.9630 - val_loss: 0.1801 - val_accuracy: 0.9361 - val_precision: 0.9201 - val_recall: 0.9075\n",
            "Epoch 72/100\n",
            "78/98 [======================>.......] - ETA: 0s - loss: 0.0808 - accuracy: 0.9752 - precision: 0.9776 - recall: 0.9600\n",
            "Epoch 72: saving model to /content/cp.ckpt\n",
            "98/98 [==============================] - 0s 2ms/step - loss: 0.0771 - accuracy: 0.9763 - precision: 0.9795 - recall: 0.9605 - val_loss: 0.1821 - val_accuracy: 0.9361 - val_precision: 0.9201 - val_recall: 0.9075\n",
            "Epoch 73/100\n",
            "73/98 [=====================>........] - ETA: 0s - loss: 0.0723 - accuracy: 0.9795 - precision: 0.9812 - recall: 0.9662\n",
            "Epoch 73: saving model to /content/cp.ckpt\n",
            "98/98 [==============================] - 0s 3ms/step - loss: 0.0759 - accuracy: 0.9767 - precision: 0.9779 - recall: 0.9630 - val_loss: 0.1833 - val_accuracy: 0.9361 - val_precision: 0.9201 - val_recall: 0.9075\n",
            "Epoch 74/100\n",
            "95/98 [============================>.] - ETA: 0s - loss: 0.0747 - accuracy: 0.9773 - precision: 0.9806 - recall: 0.9620\n",
            "Epoch 74: saving model to /content/cp.ckpt\n",
            "98/98 [==============================] - 0s 3ms/step - loss: 0.0753 - accuracy: 0.9763 - precision: 0.9787 - recall: 0.9614 - val_loss: 0.1815 - val_accuracy: 0.9361 - val_precision: 0.9201 - val_recall: 0.9075\n",
            "Epoch 75/100\n",
            "72/98 [=====================>........] - ETA: 0s - loss: 0.0751 - accuracy: 0.9757 - precision: 0.9772 - recall: 0.9597\n",
            "Epoch 75: saving model to /content/cp.ckpt\n",
            "98/98 [==============================] - 0s 3ms/step - loss: 0.0746 - accuracy: 0.9763 - precision: 0.9795 - recall: 0.9605 - val_loss: 0.1821 - val_accuracy: 0.9386 - val_precision: 0.9207 - val_recall: 0.9144\n",
            "Epoch 76/100\n",
            "98/98 [==============================] - ETA: 0s - loss: 0.0737 - accuracy: 0.9767 - precision: 0.9787 - recall: 0.9622\n",
            "Epoch 76: saving model to /content/cp.ckpt\n",
            "98/98 [==============================] - 0s 3ms/step - loss: 0.0737 - accuracy: 0.9767 - precision: 0.9787 - recall: 0.9622 - val_loss: 0.1838 - val_accuracy: 0.9373 - val_precision: 0.9204 - val_recall: 0.9110\n",
            "Epoch 77/100\n",
            "80/98 [=======================>......] - ETA: 0s - loss: 0.0748 - accuracy: 0.9785 - precision: 0.9790 - recall: 0.9665\n",
            "Epoch 77: saving model to /content/cp.ckpt\n",
            "98/98 [==============================] - 0s 2ms/step - loss: 0.0727 - accuracy: 0.9776 - precision: 0.9803 - recall: 0.9630 - val_loss: 0.1836 - val_accuracy: 0.9373 - val_precision: 0.9204 - val_recall: 0.9110\n",
            "Epoch 78/100\n",
            "98/98 [==============================] - ETA: 0s - loss: 0.0719 - accuracy: 0.9776 - precision: 0.9795 - recall: 0.9638\n",
            "Epoch 78: saving model to /content/cp.ckpt\n",
            "98/98 [==============================] - 0s 3ms/step - loss: 0.0719 - accuracy: 0.9776 - precision: 0.9795 - recall: 0.9638 - val_loss: 0.1843 - val_accuracy: 0.9399 - val_precision: 0.9181 - val_recall: 0.9212\n",
            "Epoch 79/100\n",
            "76/98 [======================>.......] - ETA: 0s - loss: 0.0705 - accuracy: 0.9786 - precision: 0.9798 - recall: 0.9654\n",
            "Epoch 79: saving model to /content/cp.ckpt\n",
            "98/98 [==============================] - 0s 2ms/step - loss: 0.0712 - accuracy: 0.9786 - precision: 0.9804 - recall: 0.9654 - val_loss: 0.1866 - val_accuracy: 0.9361 - val_precision: 0.9201 - val_recall: 0.9075\n",
            "Epoch 80/100\n",
            "79/98 [=======================>......] - ETA: 0s - loss: 0.0691 - accuracy: 0.9806 - precision: 0.9809 - recall: 0.9701\n",
            "Epoch 80: saving model to /content/cp.ckpt\n",
            "98/98 [==============================] - 0s 3ms/step - loss: 0.0705 - accuracy: 0.9789 - precision: 0.9804 - recall: 0.9662 - val_loss: 0.1858 - val_accuracy: 0.9373 - val_precision: 0.9204 - val_recall: 0.9110\n",
            "Epoch 81/100\n",
            "98/98 [==============================] - ETA: 0s - loss: 0.0699 - accuracy: 0.9802 - precision: 0.9828 - recall: 0.9670\n",
            "Epoch 81: saving model to /content/cp.ckpt\n",
            "98/98 [==============================] - 0s 3ms/step - loss: 0.0699 - accuracy: 0.9802 - precision: 0.9828 - recall: 0.9670 - val_loss: 0.1869 - val_accuracy: 0.9373 - val_precision: 0.9204 - val_recall: 0.9110\n",
            "Epoch 82/100\n",
            "95/98 [============================>.] - ETA: 0s - loss: 0.0699 - accuracy: 0.9796 - precision: 0.9814 - recall: 0.9667\n",
            "Epoch 82: saving model to /content/cp.ckpt\n",
            "98/98 [==============================] - 0s 3ms/step - loss: 0.0691 - accuracy: 0.9802 - precision: 0.9820 - recall: 0.9678 - val_loss: 0.1891 - val_accuracy: 0.9386 - val_precision: 0.9236 - val_recall: 0.9110\n",
            "Epoch 83/100\n",
            "80/98 [=======================>......] - ETA: 0s - loss: 0.0668 - accuracy: 0.9789 - precision: 0.9820 - recall: 0.9646\n",
            "Epoch 83: saving model to /content/cp.ckpt\n",
            "98/98 [==============================] - 0s 2ms/step - loss: 0.0687 - accuracy: 0.9795 - precision: 0.9812 - recall: 0.9670 - val_loss: 0.1871 - val_accuracy: 0.9361 - val_precision: 0.9172 - val_recall: 0.9110\n",
            "Epoch 84/100\n",
            "96/98 [============================>.] - ETA: 0s - loss: 0.0676 - accuracy: 0.9795 - precision: 0.9800 - recall: 0.9680\n",
            "Epoch 84: saving model to /content/cp.ckpt\n",
            "98/98 [==============================] - 0s 3ms/step - loss: 0.0676 - accuracy: 0.9795 - precision: 0.9804 - recall: 0.9678 - val_loss: 0.1916 - val_accuracy: 0.9373 - val_precision: 0.9263 - val_recall: 0.9041\n",
            "Epoch 85/100\n",
            "77/98 [======================>.......] - ETA: 0s - loss: 0.0664 - accuracy: 0.9801 - precision: 0.9825 - recall: 0.9675\n",
            "Epoch 85: saving model to /content/cp.ckpt\n",
            "98/98 [==============================] - 0s 3ms/step - loss: 0.0669 - accuracy: 0.9808 - precision: 0.9836 - recall: 0.9678 - val_loss: 0.1888 - val_accuracy: 0.9386 - val_precision: 0.9266 - val_recall: 0.9075\n",
            "Epoch 86/100\n",
            "75/98 [=====================>........] - ETA: 0s - loss: 0.0636 - accuracy: 0.9825 - precision: 0.9836 - recall: 0.9709\n",
            "Epoch 86: saving model to /content/cp.ckpt\n",
            "98/98 [==============================] - 0s 2ms/step - loss: 0.0663 - accuracy: 0.9811 - precision: 0.9844 - recall: 0.9678 - val_loss: 0.1905 - val_accuracy: 0.9386 - val_precision: 0.9266 - val_recall: 0.9075\n",
            "Epoch 87/100\n",
            "79/98 [=======================>......] - ETA: 0s - loss: 0.0690 - accuracy: 0.9798 - precision: 0.9784 - recall: 0.9718\n",
            "Epoch 87: saving model to /content/cp.ckpt\n",
            "98/98 [==============================] - 0s 2ms/step - loss: 0.0654 - accuracy: 0.9808 - precision: 0.9805 - recall: 0.9710 - val_loss: 0.1918 - val_accuracy: 0.9373 - val_precision: 0.9263 - val_recall: 0.9041\n",
            "Epoch 88/100\n",
            "77/98 [======================>.......] - ETA: 0s - loss: 0.0603 - accuracy: 0.9830 - precision: 0.9877 - recall: 0.9699\n",
            "Epoch 88: saving model to /content/cp.ckpt\n",
            "98/98 [==============================] - 0s 2ms/step - loss: 0.0647 - accuracy: 0.9821 - precision: 0.9861 - recall: 0.9686 - val_loss: 0.1908 - val_accuracy: 0.9399 - val_precision: 0.9268 - val_recall: 0.9110\n",
            "Epoch 89/100\n",
            "98/98 [==============================] - ETA: 0s - loss: 0.0642 - accuracy: 0.9824 - precision: 0.9845 - recall: 0.9710\n",
            "Epoch 89: saving model to /content/cp.ckpt\n",
            "98/98 [==============================] - 0s 3ms/step - loss: 0.0642 - accuracy: 0.9824 - precision: 0.9845 - recall: 0.9710 - val_loss: 0.1921 - val_accuracy: 0.9386 - val_precision: 0.9266 - val_recall: 0.9075\n",
            "Epoch 90/100\n",
            "84/98 [========================>.....] - ETA: 0s - loss: 0.0642 - accuracy: 0.9814 - precision: 0.9837 - recall: 0.9688\n",
            "Epoch 90: saving model to /content/cp.ckpt\n",
            "98/98 [==============================] - 0s 3ms/step - loss: 0.0634 - accuracy: 0.9818 - precision: 0.9853 - recall: 0.9686 - val_loss: 0.1931 - val_accuracy: 0.9386 - val_precision: 0.9236 - val_recall: 0.9110\n",
            "Epoch 91/100\n",
            "73/98 [=====================>........] - ETA: 0s - loss: 0.0641 - accuracy: 0.9820 - precision: 0.9868 - recall: 0.9676\n",
            "Epoch 91: saving model to /content/cp.ckpt\n",
            "98/98 [==============================] - 0s 2ms/step - loss: 0.0626 - accuracy: 0.9827 - precision: 0.9861 - recall: 0.9702 - val_loss: 0.1932 - val_accuracy: 0.9399 - val_precision: 0.9210 - val_recall: 0.9178\n",
            "Epoch 92/100\n",
            "76/98 [======================>.......] - ETA: 0s - loss: 0.0647 - accuracy: 0.9815 - precision: 0.9822 - recall: 0.9710\n",
            "Epoch 92: saving model to /content/cp.ckpt\n",
            "98/98 [==============================] - 0s 2ms/step - loss: 0.0623 - accuracy: 0.9834 - precision: 0.9853 - recall: 0.9726 - val_loss: 0.1960 - val_accuracy: 0.9373 - val_precision: 0.9233 - val_recall: 0.9075\n",
            "Epoch 93/100\n",
            "96/98 [============================>.] - ETA: 0s - loss: 0.0616 - accuracy: 0.9837 - precision: 0.9867 - recall: 0.9722\n",
            "Epoch 93: saving model to /content/cp.ckpt\n",
            "98/98 [==============================] - 0s 3ms/step - loss: 0.0617 - accuracy: 0.9834 - precision: 0.9869 - recall: 0.9710 - val_loss: 0.1945 - val_accuracy: 0.9386 - val_precision: 0.9236 - val_recall: 0.9110\n",
            "Epoch 94/100\n",
            "97/98 [============================>.] - ETA: 0s - loss: 0.0614 - accuracy: 0.9832 - precision: 0.9852 - recall: 0.9724\n",
            "Epoch 94: saving model to /content/cp.ckpt\n",
            "98/98 [==============================] - 0s 3ms/step - loss: 0.0612 - accuracy: 0.9834 - precision: 0.9853 - recall: 0.9726 - val_loss: 0.1948 - val_accuracy: 0.9373 - val_precision: 0.9263 - val_recall: 0.9041\n",
            "Epoch 95/100\n",
            "78/98 [======================>.......] - ETA: 0s - loss: 0.0620 - accuracy: 0.9828 - precision: 0.9841 - recall: 0.9735\n",
            "Epoch 95: saving model to /content/cp.ckpt\n",
            "98/98 [==============================] - 0s 2ms/step - loss: 0.0600 - accuracy: 0.9834 - precision: 0.9861 - recall: 0.9718 - val_loss: 0.1946 - val_accuracy: 0.9373 - val_precision: 0.9233 - val_recall: 0.9075\n",
            "Epoch 96/100\n",
            "81/98 [=======================>......] - ETA: 0s - loss: 0.0599 - accuracy: 0.9842 - precision: 0.9872 - recall: 0.9728\n",
            "Epoch 96: saving model to /content/cp.ckpt\n",
            "98/98 [==============================] - 0s 2ms/step - loss: 0.0593 - accuracy: 0.9837 - precision: 0.9861 - recall: 0.9726 - val_loss: 0.1976 - val_accuracy: 0.9399 - val_precision: 0.9239 - val_recall: 0.9144\n",
            "Epoch 97/100\n",
            "98/98 [==============================] - ETA: 0s - loss: 0.0597 - accuracy: 0.9827 - precision: 0.9853 - recall: 0.9710\n",
            "Epoch 97: saving model to /content/cp.ckpt\n",
            "98/98 [==============================] - 0s 3ms/step - loss: 0.0597 - accuracy: 0.9827 - precision: 0.9853 - recall: 0.9710 - val_loss: 0.1974 - val_accuracy: 0.9399 - val_precision: 0.9239 - val_recall: 0.9144\n",
            "Epoch 98/100\n",
            "93/98 [===========================>..] - ETA: 0s - loss: 0.0585 - accuracy: 0.9839 - precision: 0.9846 - recall: 0.9747\n",
            "Epoch 98: saving model to /content/cp.ckpt\n",
            "98/98 [==============================] - 0s 3ms/step - loss: 0.0583 - accuracy: 0.9840 - precision: 0.9853 - recall: 0.9742 - val_loss: 0.1990 - val_accuracy: 0.9373 - val_precision: 0.9263 - val_recall: 0.9041\n",
            "Epoch 99/100\n",
            "98/98 [==============================] - ETA: 0s - loss: 0.0579 - accuracy: 0.9840 - precision: 0.9877 - recall: 0.9718\n",
            "Epoch 99: saving model to /content/cp.ckpt\n",
            "98/98 [==============================] - 0s 3ms/step - loss: 0.0579 - accuracy: 0.9840 - precision: 0.9877 - recall: 0.9718 - val_loss: 0.1972 - val_accuracy: 0.9361 - val_precision: 0.9231 - val_recall: 0.9041\n",
            "Epoch 100/100\n",
            "93/98 [===========================>..] - ETA: 0s - loss: 0.0585 - accuracy: 0.9852 - precision: 0.9880 - recall: 0.9746\n",
            "Epoch 100: saving model to /content/cp.ckpt\n",
            "98/98 [==============================] - 0s 3ms/step - loss: 0.0578 - accuracy: 0.9856 - precision: 0.9878 - recall: 0.9758 - val_loss: 0.1987 - val_accuracy: 0.9373 - val_precision: 0.9263 - val_recall: 0.9041\n",
            "INFO:tensorflow:Assets written to: my_model_save/assets\n"
          ]
        }
      ]
    },
    {
      "cell_type": "code",
      "source": [
        "# Download the saved files\n",
        "\n",
        "!zip -r /content/saved_model.zip /content/my_model_save\n",
        "\n",
        "#These lines will not work if run outside Google Colab\n",
        "\n",
        "files.download(\"/content/saved_model.zip\")\n",
        "files.download(\"/content/my_model_h5.h5\")"
      ],
      "metadata": {
        "colab": {
          "base_uri": "https://localhost:8080/",
          "height": 139
        },
        "id": "dM3ppm7ySznF",
        "outputId": "10451ac4-9b89-41db-e3a3-b9a0845a2e72"
      },
      "execution_count": 35,
      "outputs": [
        {
          "output_type": "stream",
          "name": "stdout",
          "text": [
            "updating: content/my_model_save/ (stored 0%)\n",
            "updating: content/my_model_save/assets/ (stored 0%)\n",
            "updating: content/my_model_save/variables/ (stored 0%)\n",
            "updating: content/my_model_save/variables/variables.index (deflated 63%)\n",
            "updating: content/my_model_save/variables/variables.data-00000-of-00001 (deflated 9%)\n",
            "updating: content/my_model_save/keras_metadata.pb (deflated 86%)\n",
            "updating: content/my_model_save/saved_model.pb (deflated 88%)\n"
          ]
        },
        {
          "output_type": "display_data",
          "data": {
            "text/plain": [
              "<IPython.core.display.Javascript object>"
            ],
            "application/javascript": [
              "\n",
              "    async function download(id, filename, size) {\n",
              "      if (!google.colab.kernel.accessAllowed) {\n",
              "        return;\n",
              "      }\n",
              "      const div = document.createElement('div');\n",
              "      const label = document.createElement('label');\n",
              "      label.textContent = `Downloading \"${filename}\": `;\n",
              "      div.appendChild(label);\n",
              "      const progress = document.createElement('progress');\n",
              "      progress.max = size;\n",
              "      div.appendChild(progress);\n",
              "      document.body.appendChild(div);\n",
              "\n",
              "      const buffers = [];\n",
              "      let downloaded = 0;\n",
              "\n",
              "      const channel = await google.colab.kernel.comms.open(id);\n",
              "      // Send a message to notify the kernel that we're ready.\n",
              "      channel.send({})\n",
              "\n",
              "      for await (const message of channel.messages) {\n",
              "        // Send a message to notify the kernel that we're ready.\n",
              "        channel.send({})\n",
              "        if (message.buffers) {\n",
              "          for (const buffer of message.buffers) {\n",
              "            buffers.push(buffer);\n",
              "            downloaded += buffer.byteLength;\n",
              "            progress.value = downloaded;\n",
              "          }\n",
              "        }\n",
              "      }\n",
              "      const blob = new Blob(buffers, {type: 'application/binary'});\n",
              "      const a = document.createElement('a');\n",
              "      a.href = window.URL.createObjectURL(blob);\n",
              "      a.download = filename;\n",
              "      div.appendChild(a);\n",
              "      a.click();\n",
              "      div.remove();\n",
              "    }\n",
              "  "
            ]
          },
          "metadata": {}
        },
        {
          "output_type": "display_data",
          "data": {
            "text/plain": [
              "<IPython.core.display.Javascript object>"
            ],
            "application/javascript": [
              "download(\"download_cf2ce3aa-59aa-4683-9a6e-90bfd78d3702\", \"saved_model.zip\", 192188)"
            ]
          },
          "metadata": {}
        },
        {
          "output_type": "display_data",
          "data": {
            "text/plain": [
              "<IPython.core.display.Javascript object>"
            ],
            "application/javascript": [
              "\n",
              "    async function download(id, filename, size) {\n",
              "      if (!google.colab.kernel.accessAllowed) {\n",
              "        return;\n",
              "      }\n",
              "      const div = document.createElement('div');\n",
              "      const label = document.createElement('label');\n",
              "      label.textContent = `Downloading \"${filename}\": `;\n",
              "      div.appendChild(label);\n",
              "      const progress = document.createElement('progress');\n",
              "      progress.max = size;\n",
              "      div.appendChild(progress);\n",
              "      document.body.appendChild(div);\n",
              "\n",
              "      const buffers = [];\n",
              "      let downloaded = 0;\n",
              "\n",
              "      const channel = await google.colab.kernel.comms.open(id);\n",
              "      // Send a message to notify the kernel that we're ready.\n",
              "      channel.send({})\n",
              "\n",
              "      for await (const message of channel.messages) {\n",
              "        // Send a message to notify the kernel that we're ready.\n",
              "        channel.send({})\n",
              "        if (message.buffers) {\n",
              "          for (const buffer of message.buffers) {\n",
              "            buffers.push(buffer);\n",
              "            downloaded += buffer.byteLength;\n",
              "            progress.value = downloaded;\n",
              "          }\n",
              "        }\n",
              "      }\n",
              "      const blob = new Blob(buffers, {type: 'application/binary'});\n",
              "      const a = document.createElement('a');\n",
              "      a.href = window.URL.createObjectURL(blob);\n",
              "      a.download = filename;\n",
              "      div.appendChild(a);\n",
              "      a.click();\n",
              "      div.remove();\n",
              "    }\n",
              "  "
            ]
          },
          "metadata": {}
        },
        {
          "output_type": "display_data",
          "data": {
            "text/plain": [
              "<IPython.core.display.Javascript object>"
            ],
            "application/javascript": [
              "download(\"download_31a6dcc5-7504-476a-bd87-68fafaf327fd\", \"my_model_h5.h5\", 222480)"
            ]
          },
          "metadata": {}
        }
      ]
    },
    {
      "cell_type": "code",
      "source": [
        "rcParams['figure.figsize'] = (18, 8)\n",
        "rcParams['axes.spines.top'] = False\n",
        "rcParams['axes.spines.right'] = False\n",
        "\n",
        "\n",
        "plt.plot(\n",
        "    np.arange(1, no_of_epoch+1), \n",
        "    history.history['accuracy'], label='Accuracy'\n",
        ")\n",
        "plt.plot(\n",
        "    np.arange(1, no_of_epoch+1), \n",
        "    history.history['val_accuracy'], label='Validation Accuracy'\n",
        ")\n",
        "plt.plot(\n",
        "    np.arange(1, no_of_epoch+1), \n",
        "    history.history['precision'], label='Precision'\n",
        ")\n",
        "plt.plot(\n",
        "    np.arange(1, no_of_epoch+1), \n",
        "    history.history['val_precision'], label='Validation Precision'\n",
        ")\n",
        "plt.plot(\n",
        "    np.arange(1, no_of_epoch+1), \n",
        "    history.history['recall'], label='Recall'\n",
        ")\n",
        "plt.plot(\n",
        "    np.arange(1, no_of_epoch+1), \n",
        "    history.history['val_recall'], label='Validation Recall'\n",
        ")\n",
        "plt.plot(\n",
        "    np.arange(1, no_of_epoch+1), \n",
        "    history.history['loss'], label='Loss'\n",
        ")\n",
        "plt.plot(\n",
        "    np.arange(1, no_of_epoch+1), \n",
        "    history.history['val_loss'], label='Validation Loss'\n",
        ")\n",
        "plt.title('Training and Validation Data - Model Evaluation metrics', size=20)\n",
        "plt.xlabel('Epoch', size=14)\n",
        "plt.legend();"
      ],
      "metadata": {
        "colab": {
          "base_uri": "https://localhost:8080/",
          "height": 394
        },
        "id": "ptDgSxYakjR6",
        "outputId": "96774d96-683e-4062-ee15-0b6ea0513428"
      },
      "execution_count": 9,
      "outputs": [
        {
          "output_type": "display_data",
          "data": {
            "text/plain": [
              "<Figure size 1296x576 with 1 Axes>"
            ],
            "image/png": "[encoded data removed]"
          },
          "metadata": {
            "needs_background": "light"
          }
        }
      ]
    },
    {
      "cell_type": "code",
      "source": [
        "#Predicting the output for the Test Dataset \n",
        "predictions = model.predict(X_test_scaled)\n",
        "\n",
        "#Converting the Predicted Probabilites into Binary Class labels\n",
        "# Threshold -> 0.7\n",
        "\n",
        "predictions[predictions>=0.7]=1\n",
        "predictions[predictions<0.7]=0"
      ],
      "metadata": {
        "id": "b6zpOC8n5Ycj"
      },
      "execution_count": 23,
      "outputs": []
    },
    {
      "cell_type": "code",
      "source": [
        "predictions = predictions.astype(int)\n",
        "print(predictions[:5])"
      ],
      "metadata": {
        "colab": {
          "base_uri": "https://localhost:8080/"
        },
        "id": "07vJTEnU58Ka",
        "outputId": "f7809003-9fdb-4a85-c934-de2ef426d91b"
      },
      "execution_count": 38,
      "outputs": [
        {
          "output_type": "stream",
          "name": "stdout",
          "text": [
            "[[1]\n",
            " [0]\n",
            " [0]\n",
            " [1]\n",
            " [0]]\n"
          ]
        }
      ]
    },
    {
      "cell_type": "code",
      "source": [
        "np.savetxt(\"op-binary.txt\",predictions.astype(int), fmt='%i', delimiter=\",\")"
      ],
      "metadata": {
        "id": "NyyXBT__N4zy"
      },
      "execution_count": 40,
      "outputs": []
    },
    {
      "cell_type": "markdown",
      "source": [
        "#Load the model using the trained weights\n"
      ],
      "metadata": {
        "id": "4D-ZbFRSmUPM"
      }
    },
    {
      "cell_type": "code",
      "source": [
        ""
      ],
      "metadata": {
        "id": "ZCk510rq57Qm"
      },
      "execution_count": 11,
      "outputs": []
    },
    {
      "cell_type": "code",
      "source": [
        "# Loads the weights\n",
        "checkpoint_path = \"/content/cp.ckpt\"\n",
        "\n",
        "model.load_weights(checkpoint_path)\n",
        "\n",
        "# # Re-evaluate the model\n",
        "# loss, acc = model.evaluate(test_images, test_labels, verbose=2)\n",
        "# print(\"Restored model, accuracy: {:5.2f}%\".format(100 * acc))\n",
        "\n",
        "predictions = model.predict(X_test_scaled)"
      ],
      "metadata": {
        "id": "r_gPWvNU4mld"
      },
      "execution_count": 12,
      "outputs": []
    },
    {
      "cell_type": "code",
      "source": [
        ""
      ],
      "metadata": {
        "id": "6lIHnw-HSr0M"
      },
      "execution_count": null,
      "outputs": []
    }
  ]
}